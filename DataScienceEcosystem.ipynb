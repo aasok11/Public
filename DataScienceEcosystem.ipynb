{
 "cells": [
  {
   "cell_type": "markdown",
   "id": "385556ed-feed-4614-8f4d-3c2cc1ff532e",
   "metadata": {},
   "source": [
    "# Data Science Tools and Ecosystem #"
   ]
  },
  {
   "cell_type": "markdown",
   "id": "443c97ab-3fd1-46ad-9090-677e34115202",
   "metadata": {},
   "source": [
    "In this notebook, Data Science Tools and Ecosystem are summarized."
   ]
  },
  {
   "cell_type": "markdown",
   "id": "1e28b199-1dc8-4948-beee-32d87ac05a3a",
   "metadata": {},
   "source": [
    "*Objectives:*  \n",
    "\n",
    "* List popular languages for Data Science\n",
    "* List commonly used libraries for Data Science\n",
    "* List popular data science tools for Data Science\n",
    "* Perform simple arithmetic computation\n",
    "* Converting time values"
   ]
  },
  {
   "cell_type": "markdown",
   "id": "03c688e1-542f-479f-8e51-7a8aa412da90",
   "metadata": {},
   "source": [
    "Some of the popular languages that Data Scientists use are:  \n",
    "\n",
    "1. Python\n",
    "1. R\n",
    "1. Matlab"
   ]
  },
  {
   "cell_type": "markdown",
   "id": "cf8b9c54-ad4c-4338-9548-db2d89db7c8f",
   "metadata": {},
   "source": [
    "Some of the commonly used libraries used by Data Scientists include:\n",
    "\n",
    "1. Numpy\n",
    "1. Pandas\n",
    "1. Scikit-learn\n",
    "1. Matplotlib"
   ]
  },
  {
   "cell_type": "markdown",
   "id": "eaf9568f-0784-4b0d-842a-797fe0842a1b",
   "metadata": {},
   "source": [
    "| *Data Science Tools* | \n",
    "|----------------------|\n",
    "|Jupyter Notebook|\n",
    "|IBM Watson|\n",
    "|R Studio|\n",
    "\n",
    "\n",
    "\n"
   ]
  },
  {
   "cell_type": "markdown",
   "id": "89415a89-5c57-4662-a32d-07fb8a503633",
   "metadata": {},
   "source": [
    "### Below are a few examples of evaluating arithmetic expressions in Python ###"
   ]
  },
  {
   "cell_type": "code",
   "execution_count": 8,
   "id": "fd9f4323-7e47-4ed2-a27b-839e2d5ae121",
   "metadata": {},
   "outputs": [
    {
     "data": {
      "text/plain": [
       "17"
      ]
     },
     "execution_count": 8,
     "metadata": {},
     "output_type": "execute_result"
    }
   ],
   "source": [
    "# This a simple arithmetic expression to mutiply then add integers\n",
    "(3*4)+5"
   ]
  },
  {
   "cell_type": "code",
   "execution_count": 13,
   "id": "5c8dfc12-95b2-42d1-bb96-09bfa515042b",
   "metadata": {},
   "outputs": [
    {
     "data": {
      "text/plain": [
       "(3.3333333333333335, 'hrs')"
      ]
     },
     "execution_count": 13,
     "metadata": {},
     "output_type": "execute_result"
    }
   ],
   "source": [
    "# This will convert 200 minutes to hours by dividng by 60\n",
    "(200/60), \"hrs\""
   ]
  },
  {
   "cell_type": "markdown",
   "id": "649d7c72-ebd5-4061-8e57-b98dc75ea98a",
   "metadata": {},
   "source": [
    "## Author ##  \n",
    "Arun Asok"
   ]
  },
  {
   "cell_type": "code",
   "execution_count": null,
   "id": "c04cad88-60a1-4ca4-ac55-48cc8735cea7",
   "metadata": {},
   "outputs": [],
   "source": []
  }
 ],
 "metadata": {
  "kernelspec": {
   "display_name": "Python",
   "language": "python",
   "name": "conda-env-python-py"
  },
  "language_info": {
   "codemirror_mode": {
    "name": "ipython",
    "version": 3
   },
   "file_extension": ".py",
   "mimetype": "text/x-python",
   "name": "python",
   "nbconvert_exporter": "python",
   "pygments_lexer": "ipython3",
   "version": "3.7.12"
  }
 },
 "nbformat": 4,
 "nbformat_minor": 5
}
